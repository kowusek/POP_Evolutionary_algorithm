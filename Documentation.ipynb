{
 "cells": [
  {
   "cell_type": "code",
   "execution_count": 1,
   "metadata": {},
   "outputs": [],
   "source": [
    "from Population import Population\n",
    "import matplotlib.pyplot as plt\n",
    "from tqdm import tqdm\n",
    "from IPython import display"
   ]
  },
  {
   "cell_type": "code",
   "execution_count": 3,
   "metadata": {},
   "outputs": [
    {
     "data": {
      "image/png": "[encoded data removed]",
      "text/plain": [
       "<Figure size 432x288 with 1 Axes>"
      ]
     },
     "metadata": {
      "needs_background": "light"
     },
     "output_type": "display_data"
    },
    {
     "name": "stderr",
     "output_type": "stream",
     "text": [
      "100%|██████████| 10000/10000 [10:38<00:00, 15.65it/s]\n"
     ]
    }
   ],
   "source": [
    "popSize = 100\n",
    "iterCount = 10000\n",
    "mutationProb = 0.1\n",
    "crossProb = 0.8\n",
    "modularity = 1\n",
    "pathCount = 0\n",
    "\n",
    "population = Population(popSize, pathCount)\n",
    "moduleCount = list()\n",
    "\n",
    "for x, y in tqdm(population.evolution(mutationProb, crossProb, iterCount, modularity), total = iterCount):\n",
    "    moduleCount.append(y)\n",
    "    if x % 100 == 0:\n",
    "        display.clear_output()\n",
    "        plt.plot(moduleCount, label= 'Module count')\n",
    "        plt.legend()\n",
    "        plt.grid()\n",
    "        plt.show()"
   ]
  },
  {
   "cell_type": "markdown",
   "metadata": {},
   "source": [
    "Pierwsze uruchomienie algorytmu, rozeznanie ile czasu zajmuje wykonanie z arbitralnie dobranymi parametrami. Widać, że algorytm jak najbardziej jest w stanie minimalizowac zadaną funkcję celu. W następnym kroku dobrane zostaną parametry. Przy strojeniu paramertów będzie używana pełna dezagregacja, ponieważ jest to najcięzszy przypadek dla podanego zadania. Dobieranie parametrów zostanie uproszczone, poprzez założenie, że parametry są od siebie niezależne."
   ]
  },
  {
   "cell_type": "code",
   "execution_count": 14,
   "metadata": {},
   "outputs": [
    {
     "name": "stderr",
     "output_type": "stream",
     "text": [
      "  0%|          | 0/20 [00:00<?, ?it/s]"
     ]
    }
   ],
   "source": [
    "iterCount = 100\n",
    "mutationProb = 0.1\n",
    "crossProb = 0.8\n",
    "modularity = 1\n",
    "pathCount = 0\n",
    "results = list()\n",
    "labels = list()\n",
    "\n",
    "for popSize in range(100, 600, 100):\n",
    "    moduleCount = list()\n",
    "    labels.append(popSize)\n",
    "    for iter in tqdm(range(20)):\n",
    "        population = Population(popSize, pathCount)\n",
    "        result = population.startEvolution(mutationProb, crossProb, iterCount, modularity)\n",
    "        moduleCount.append(result)\n",
    "    results.append(moduleCount)\n",
    "    display.clear_output()\n",
    "    plt.boxplot(results, labels= labels)\n",
    "    plt.show()"
   ]
  },
  {
   "cell_type": "markdown",
   "metadata": {},
   "source": [
    "Wykres porzedstawia zależność wielkości populacji od ilości modułów. Dla każdego rozmiaru populacji wyniki były zbierane 20 razy i przedstawiane jako boxplot."
   ]
  },
  {
   "cell_type": "code",
   "execution_count": null,
   "metadata": {},
   "outputs": [],
   "source": [
    "iterCount = 10000\n",
    "mutationProb = 0.1\n",
    "crossProb = 0.8\n",
    "modularity = 1\n",
    "pathCount = 0\n",
    "results = list()\n",
    "labels = list()\n",
    "\n",
    "for popSize in tqdm(range(100, 600, 100)):\n",
    "    labels.append(popSize)\n",
    "    population = Population(popSize, pathCount)\n",
    "    result = population.startEvolution(mutationProb, crossProb, iterCount, modularity)\n",
    "    results.append(result)\n",
    "    display.clear_output()\n",
    "    plt.bar(results, bottom= labels)\n",
    "    plt.show()"
   ]
  },
  {
   "cell_type": "markdown",
   "metadata": {},
   "source": [
    "Test głębokości znalezionego optimum w zależności od wielkości populacji. Ze względu na zbyt długie obliczenia, test będzie przeprowadzany raz dla danej wielkości populacji. Poszukujemy znacznych różnic w głębokości."
   ]
  }
 ],
 "metadata": {
  "interpreter": {
   "hash": "35504803bc540fc92378e13c4a1b4a39be0e14b9b2c4fe1f5c050e539190838a"
  },
  "kernelspec": {
   "display_name": "Python 3.8.10 64-bit ('venv': venv)",
   "language": "python",
   "name": "python3"
  },
  "language_info": {
   "codemirror_mode": {
    "name": "ipython",
    "version": 3
   },
   "file_extension": ".py",
   "mimetype": "text/x-python",
   "name": "python",
   "nbconvert_exporter": "python",
   "pygments_lexer": "ipython3",
   "version": "3.8.10"
  },
  "orig_nbformat": 4
 },
 "nbformat": 4,
 "nbformat_minor": 2
}
